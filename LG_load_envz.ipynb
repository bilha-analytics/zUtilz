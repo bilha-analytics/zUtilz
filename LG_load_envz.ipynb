{
 "cells": [
  {
   "cell_type": "markdown",
   "metadata": {
    "toc": true
   },
   "source": [
    "<h1>Table of Contents<span class=\"tocSkip\"></span></h1>\n",
    "<div class=\"toc\"><ul class=\"toc-item\"></ul></div>"
   ]
  },
  {
   "cell_type": "code",
   "execution_count": 7,
   "metadata": {
    "collapsed": true
   },
   "outputs": [],
   "source": [
    "#%run \"load_envz.ipynb\""
   ]
  },
  {
   "cell_type": "code",
   "execution_count": 3,
   "metadata": {
    "collapsed": true
   },
   "outputs": [],
   "source": [
    "### Data sets\n",
    "DATA_DIR = r\"C:\\Users\\BILHA\\Desktop\\xRepos\\datasets\" \n",
    "\n",
    "SALES_TARGET = 2040\n",
    "\n",
    "REGIONS = {\"KHQ\": [\"HQ\"], \n",
    "    \"KIAMBU_COUNTY\" : [\"Thika\"], \n",
    "    \"NAKURU_COUNTY\" : [\"Kuresoi\"], \n",
    "    \"KISII_COUNTY\" : [\"Kenyenya\", \"Ogembo\", \"Suneka\"], \n",
    "    \"KAKAMEGA_COUNTY\" : [\"Malava\", \"Shinyalu\"],\n",
    "    \"BUSIA_COUNTY\" : [\"Busia\", \"Funyula\", \"Butula\", \"Nambale\", \"Malaba\", \"Port Victoria\"],\n",
    "}"
   ]
  },
  {
   "cell_type": "code",
   "execution_count": 1,
   "metadata": {},
   "outputs": [],
   "source": [
    "\n",
    "\n",
    "def zSetRegion(dts, br=\"branch_name\"):\n",
    "    keys = list(REGIONS.keys())\n",
    "    dts[\"region\"] = np.where( dts[br].isin( REGIONS[keys[0]]), keys[0],\n",
    "                        np.where( dts[br].isin( REGIONS[keys[1]]), keys[1], \n",
    "                                 np.where( dts[br].isin( REGIONS[keys[2]]), keys[2], \n",
    "                                          np.where( dts[br].isin( REGIONS[keys[3]]), keys[3], \n",
    "                                                   np.where( dts[br].isin( REGIONS[keys[4]]), keys[4], \n",
    "                                                            np.where( dts[br].isin( REGIONS[keys[5]]), keys[5], \n",
    "                                \"UNDEF\"))))))\n",
    "    return dts[\"region\"].value_counts()\n",
    "    #return reg if np.isin(x, li) else \"UNDEF\"\n",
    "\n",
    "def CHWSummaries( dtset, colz, t, grp=None, unit=\"CHW\", rnd=2, plotit=True, tbl=False, prefCol=None): \n",
    "    print( \"\\n\\n %s\" % t )\n",
    "    dtmp = pd.DataFrame( { \n",
    "       \"# Cases or Sum\": dtset[ colz  ].sum().round(rnd), \n",
    "       \"Avg. per \"+unit: dtset[ colz  ].mean().round(rnd),\n",
    "       \"Min per \"+unit: dtset[ colz  ].min().round(rnd),\n",
    "       \"Max per \"+unit : dtset[ colz  ].max().round(rnd),\n",
    "        \"# \"+unit : len( dtset.index)\n",
    "      })\n",
    "    return (dtmp.T, dtmp[\"Avg. per \"+unit if prefCol else \"# Cases or Sum\"].T.sort_values().plot( kind=\"bar\", title=t, figsize=(13,7), table=tbl) ) if plotit else dtmp.T"
   ]
  },
  {
   "cell_type": "code",
   "execution_count": 4,
   "metadata": {},
   "outputs": [
    {
     "name": "stderr",
     "output_type": "stream",
     "text": [
      "ERROR:root:Cell magic `%%R` not found.\n"
     ]
    }
   ],
   "source": [
    "%%R\n",
    "mtcars"
   ]
  },
  {
   "cell_type": "code",
   "execution_count": null,
   "metadata": {
    "collapsed": true
   },
   "outputs": [],
   "source": []
  }
 ],
 "metadata": {
  "anaconda-cloud": {},
  "hide_input": false,
  "kernelspec": {
   "display_name": "Python 3",
   "language": "python",
   "name": "python3"
  },
  "language_info": {
   "codemirror_mode": {
    "name": "ipython",
    "version": 3
   },
   "file_extension": ".py",
   "mimetype": "text/x-python",
   "name": "python",
   "nbconvert_exporter": "python",
   "pygments_lexer": "ipython3",
   "version": "3.6.3"
  },
  "latex_envs": {
   "LaTeX_envs_menu_present": true,
   "autoclose": false,
   "autocomplete": true,
   "bibliofile": "biblio.bib",
   "cite_by": "apalike",
   "current_citInitial": 1,
   "eqLabelWithNumbers": true,
   "eqNumInitial": 1,
   "hotkeys": {
    "equation": "Ctrl-E",
    "itemize": "Ctrl-I"
   },
   "labels_anchors": false,
   "latex_user_defs": false,
   "report_style_numbering": false,
   "user_envs_cfg": false
  },
  "toc": {
   "nav_menu": {},
   "number_sections": true,
   "sideBar": true,
   "skip_h1_title": true,
   "title_cell": "Table of Contents",
   "title_sidebar": "Contents",
   "toc_cell": true,
   "toc_position": {},
   "toc_section_display": true,
   "toc_window_display": false
  }
 },
 "nbformat": 4,
 "nbformat_minor": 2
}
